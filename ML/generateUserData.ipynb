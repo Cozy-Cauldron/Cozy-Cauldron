{
 "cells": [
  {
   "cell_type": "code",
   "execution_count": 1,
   "id": "cf2c288d-e604-4b8b-b68e-e98ec5152683",
   "metadata": {},
   "outputs": [
    {
     "name": "stdout",
     "output_type": "stream",
     "text": [
      "Simulated gesture input saved to gesture.csv\n"
     ]
    }
   ],
   "source": [
    "import pandas as pd\n",
    "import numpy as np\n",
    "\n",
    "# Settings\n",
    "np.random.seed(101)\n",
    "time_steps = 50  # same as training\n",
    "\n",
    "# Simulate a \"jump\" gesture pattern\n",
    "acc_x = np.random.normal(0, 0.1, time_steps)\n",
    "acc_y = np.random.normal(0, 0.1, time_steps)\n",
    "acc_z = np.concatenate([\n",
    "    np.ones(5)*3,        # upward impulse\n",
    "    np.ones(40)*0,       # airborne\n",
    "    np.ones(5)*(-3)      # landing\n",
    "]) + np.random.normal(0, 0.2, time_steps)\n",
    "\n",
    "gyro_x = np.random.normal(0.2, 0.1, time_steps)\n",
    "gyro_y = np.random.normal(0.2, 0.1, time_steps)\n",
    "gyro_z = np.random.normal(0.2, 0.1, time_steps)\n",
    "\n",
    "# Build dataframe\n",
    "test_df = pd.DataFrame({\n",
    "    'acc_x': acc_x,\n",
    "    'acc_y': acc_y,\n",
    "    'acc_z': acc_z,\n",
    "    'gyro_x': gyro_x,\n",
    "    'gyro_y': gyro_y,\n",
    "    'gyro_z': gyro_z\n",
    "})\n",
    "\n",
    "# Save to CSV\n",
    "test_df.to_csv('gesture.csv', index=False)\n",
    "print(\"Simulated gesture input saved to gesture.csv\")"
   ]
  }
 ],
 "metadata": {
  "kernelspec": {
   "display_name": "Python 3 (ipykernel)",
   "language": "python",
   "name": "python3"
  },
  "language_info": {
   "codemirror_mode": {
    "name": "ipython",
    "version": 3
   },
   "file_extension": ".py",
   "mimetype": "text/x-python",
   "name": "python",
   "nbconvert_exporter": "python",
   "pygments_lexer": "ipython3",
   "version": "3.12.4"
  }
 },
 "nbformat": 4,
 "nbformat_minor": 5
}
