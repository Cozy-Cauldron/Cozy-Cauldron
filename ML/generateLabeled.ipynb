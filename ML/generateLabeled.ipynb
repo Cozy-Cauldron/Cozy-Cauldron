{
 "cells": [
  {
   "cell_type": "code",
   "execution_count": 2,
   "id": "c4bab6ca-9fa4-4379-93dc-b338438fb3c7",
   "metadata": {},
   "outputs": [
    {
     "name": "stdout",
     "output_type": "stream",
     "text": [
      "Synthetic labeled gesture data saved to labeled_gestures.csv\n"
     ]
    }
   ],
   "source": [
    "import pandas as pd\n",
    "import numpy as np\n",
    "\n",
    "# Settings\n",
    "np.random.seed(42)\n",
    "gestures = ['wave', 'fish', 'jump']\n",
    "samples_per_gesture = 20\n",
    "time_steps = 50  # number of rows per gesture\n",
    "\n",
    "data = []\n",
    "\n",
    "for gesture in gestures:\n",
    "    for i in range(samples_per_gesture):\n",
    "        # Create a synthetic \"motion pattern\" for each gesture\n",
    "        if gesture == 'wave':\n",
    "            acc_x = np.sin(np.linspace(0, 4 * np.pi, time_steps)) + np.random.normal(0, 0.1, time_steps)\n",
    "            acc_y = np.random.normal(0.2, 0.1, time_steps)\n",
    "            acc_z = np.random.normal(0, 0.1, time_steps)\n",
    "            gyro_x = np.cos(np.linspace(0, 4 * np.pi, time_steps)) + np.random.normal(0, 0.1, time_steps)\n",
    "            gyro_y = np.random.normal(0.1, 0.05, time_steps)\n",
    "            gyro_z = np.random.normal(0, 0.05, time_steps)\n",
    "        elif gesture == 'fish':\n",
    "            acc_x = np.random.normal(0.3, 0.2, time_steps)\n",
    "            acc_y = np.linspace(-1, 1, time_steps) + np.random.normal(0, 0.1, time_steps)\n",
    "            acc_z = np.random.normal(0, 0.1, time_steps)\n",
    "            gyro_x = np.random.normal(0.1, 0.1, time_steps)\n",
    "            gyro_y = np.cos(np.linspace(0, 2 * np.pi, time_steps)) + np.random.normal(0, 0.1, time_steps)\n",
    "            gyro_z = np.random.normal(0, 0.1, time_steps)\n",
    "        elif gesture == 'jump':\n",
    "            acc_x = np.random.normal(0, 0.1, time_steps)\n",
    "            acc_y = np.random.normal(0, 0.1, time_steps)\n",
    "            acc_z = np.concatenate([np.ones(5)*3, np.ones(40)*0, np.ones(5)*(-3)]) + np.random.normal(0, 0.2, time_steps)\n",
    "            gyro_x = np.random.normal(0.2, 0.1, time_steps)\n",
    "            gyro_y = np.random.normal(0.2, 0.1, time_steps)\n",
    "            gyro_z = np.random.normal(0.2, 0.1, time_steps)\n",
    "\n",
    "        for t in range(time_steps):\n",
    "            data.append({\n",
    "                'acc_x': acc_x[t],\n",
    "                'acc_y': acc_y[t],\n",
    "                'acc_z': acc_z[t],\n",
    "                'gyro_x': gyro_x[t],\n",
    "                'gyro_y': gyro_y[t],\n",
    "                'gyro_z': gyro_z[t],\n",
    "                'label': gesture\n",
    "            })\n",
    "\n",
    "# Convert to DataFrame and save\n",
    "df = pd.DataFrame(data)\n",
    "df.to_csv('labeled_gestures.csv', index=False)\n",
    "print(\"Synthetic labeled gesture data saved to labeled_gestures.csv\")"
   ]
  }
 ],
 "metadata": {
  "kernelspec": {
   "display_name": "Python 3 (ipykernel)",
   "language": "python",
   "name": "python3"
  },
  "language_info": {
   "codemirror_mode": {
    "name": "ipython",
    "version": 3
   },
   "file_extension": ".py",
   "mimetype": "text/x-python",
   "name": "python",
   "nbconvert_exporter": "python",
   "pygments_lexer": "ipython3",
   "version": "3.12.4"
  }
 },
 "nbformat": 4,
 "nbformat_minor": 5
}
